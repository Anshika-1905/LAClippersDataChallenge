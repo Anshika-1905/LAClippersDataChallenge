{
 "cells": [
  {
   "cell_type": "code",
   "execution_count": 2,
   "metadata": {},
   "outputs": [],
   "source": [
    "import pandas as pd\n",
    "from pandasql import sqldf\n",
    "\n"
   ]
  },
  {
   "cell_type": "code",
   "execution_count": 3,
   "metadata": {},
   "outputs": [],
   "source": [
    "# Load the cleaned dataset\n",
    "file_path = 'LA Clippers Data Challenge F&B Dataset cleaned.csv'\n",
    "df = pd.read_csv(file_path)\n",
    "\n"
   ]
  },
  {
   "cell_type": "code",
   "execution_count": 4,
   "metadata": {},
   "outputs": [
    {
     "data": {
      "text/html": [
       "<div>\n",
       "<style scoped>\n",
       "    .dataframe tbody tr th:only-of-type {\n",
       "        vertical-align: middle;\n",
       "    }\n",
       "\n",
       "    .dataframe tbody tr th {\n",
       "        vertical-align: top;\n",
       "    }\n",
       "\n",
       "    .dataframe thead th {\n",
       "        text-align: right;\n",
       "    }\n",
       "</style>\n",
       "<table border=\"1\" class=\"dataframe\">\n",
       "  <thead>\n",
       "    <tr style=\"text-align: right;\">\n",
       "      <th></th>\n",
       "      <th>OrderID</th>\n",
       "      <th>OrderStatus</th>\n",
       "      <th>CustomerID</th>\n",
       "      <th>ArrivalDatetime</th>\n",
       "      <th>DepartureDatetime</th>\n",
       "      <th>GroupSize</th>\n",
       "      <th>ProductID</th>\n",
       "      <th>ProductName</th>\n",
       "      <th>ProductQuantity</th>\n",
       "      <th>ProductFullPrice</th>\n",
       "      <th>PaymentStatus</th>\n",
       "      <th>OrderTotalQuantity</th>\n",
       "      <th>EmptyOrder</th>\n",
       "      <th>Category</th>\n",
       "      <th>SubCategory</th>\n",
       "    </tr>\n",
       "  </thead>\n",
       "  <tbody>\n",
       "    <tr>\n",
       "      <th>0</th>\n",
       "      <td>1159</td>\n",
       "      <td>paid</td>\n",
       "      <td>1006</td>\n",
       "      <td>2023-03-23 00:13:00</td>\n",
       "      <td>2023-03-23 00:15:00</td>\n",
       "      <td>1</td>\n",
       "      <td>44532400000000</td>\n",
       "      <td>Aquafina- 20 oz bottle</td>\n",
       "      <td>1</td>\n",
       "      <td>7.15</td>\n",
       "      <td>success</td>\n",
       "      <td>2</td>\n",
       "      <td>No</td>\n",
       "      <td>Non-alcohol</td>\n",
       "      <td>Water</td>\n",
       "    </tr>\n",
       "    <tr>\n",
       "      <th>1</th>\n",
       "      <td>1159</td>\n",
       "      <td>paid</td>\n",
       "      <td>1006</td>\n",
       "      <td>2023-03-23 00:13:00</td>\n",
       "      <td>2023-03-23 00:15:00</td>\n",
       "      <td>1</td>\n",
       "      <td>44532400000000</td>\n",
       "      <td>Pepperoni Pizza</td>\n",
       "      <td>1</td>\n",
       "      <td>18.15</td>\n",
       "      <td>success</td>\n",
       "      <td>2</td>\n",
       "      <td>No</td>\n",
       "      <td>Food</td>\n",
       "      <td>Hot food</td>\n",
       "    </tr>\n",
       "    <tr>\n",
       "      <th>2</th>\n",
       "      <td>1160</td>\n",
       "      <td>paid</td>\n",
       "      <td>1001</td>\n",
       "      <td>2023-03-23 00:15:00</td>\n",
       "      <td>2023-03-23 00:17:00</td>\n",
       "      <td>2</td>\n",
       "      <td>44532400000000</td>\n",
       "      <td>Starry- 20 oz bottle</td>\n",
       "      <td>1</td>\n",
       "      <td>7.15</td>\n",
       "      <td>success</td>\n",
       "      <td>4</td>\n",
       "      <td>No</td>\n",
       "      <td>Non-alcohol</td>\n",
       "      <td>Non-alcohol Beverage</td>\n",
       "    </tr>\n",
       "    <tr>\n",
       "      <th>3</th>\n",
       "      <td>1160</td>\n",
       "      <td>paid</td>\n",
       "      <td>1001</td>\n",
       "      <td>2023-03-23 00:15:00</td>\n",
       "      <td>2023-03-23 00:17:00</td>\n",
       "      <td>2</td>\n",
       "      <td>44532400000000</td>\n",
       "      <td>Pink's Hot Dog</td>\n",
       "      <td>2</td>\n",
       "      <td>18.70</td>\n",
       "      <td>success</td>\n",
       "      <td>4</td>\n",
       "      <td>No</td>\n",
       "      <td>Food</td>\n",
       "      <td>Hot food</td>\n",
       "    </tr>\n",
       "    <tr>\n",
       "      <th>4</th>\n",
       "      <td>1160</td>\n",
       "      <td>paid</td>\n",
       "      <td>1001</td>\n",
       "      <td>2023-03-23 00:15:00</td>\n",
       "      <td>2023-03-23 00:17:00</td>\n",
       "      <td>2</td>\n",
       "      <td>44532400000000</td>\n",
       "      <td>Sour Patch Candy</td>\n",
       "      <td>1</td>\n",
       "      <td>6.05</td>\n",
       "      <td>success</td>\n",
       "      <td>4</td>\n",
       "      <td>No</td>\n",
       "      <td>Food</td>\n",
       "      <td>Snack</td>\n",
       "    </tr>\n",
       "  </tbody>\n",
       "</table>\n",
       "</div>"
      ],
      "text/plain": [
       "   OrderID OrderStatus  CustomerID      ArrivalDatetime    DepartureDatetime  \\\n",
       "0     1159        paid        1006  2023-03-23 00:13:00  2023-03-23 00:15:00   \n",
       "1     1159        paid        1006  2023-03-23 00:13:00  2023-03-23 00:15:00   \n",
       "2     1160        paid        1001  2023-03-23 00:15:00  2023-03-23 00:17:00   \n",
       "3     1160        paid        1001  2023-03-23 00:15:00  2023-03-23 00:17:00   \n",
       "4     1160        paid        1001  2023-03-23 00:15:00  2023-03-23 00:17:00   \n",
       "\n",
       "   GroupSize       ProductID             ProductName  ProductQuantity  \\\n",
       "0          1  44532400000000  Aquafina- 20 oz bottle                1   \n",
       "1          1  44532400000000         Pepperoni Pizza                1   \n",
       "2          2  44532400000000    Starry- 20 oz bottle                1   \n",
       "3          2  44532400000000          Pink's Hot Dog                2   \n",
       "4          2  44532400000000        Sour Patch Candy                1   \n",
       "\n",
       "   ProductFullPrice PaymentStatus  OrderTotalQuantity EmptyOrder     Category  \\\n",
       "0              7.15       success                   2         No  Non-alcohol   \n",
       "1             18.15       success                   2         No         Food   \n",
       "2              7.15       success                   4         No  Non-alcohol   \n",
       "3             18.70       success                   4         No         Food   \n",
       "4              6.05       success                   4         No         Food   \n",
       "\n",
       "            SubCategory  \n",
       "0                 Water  \n",
       "1              Hot food  \n",
       "2  Non-alcohol Beverage  \n",
       "3              Hot food  \n",
       "4                 Snack  "
      ]
     },
     "execution_count": 4,
     "metadata": {},
     "output_type": "execute_result"
    }
   ],
   "source": [
    "\n",
    "# Setup pandasql\n",
    "pysqldf = lambda q: sqldf(q, globals())\n",
    "\n",
    "df.head()\n"
   ]
  },
  {
   "cell_type": "code",
   "execution_count": 5,
   "metadata": {},
   "outputs": [
    {
     "name": "stdout",
     "output_type": "stream",
     "text": [
      "   OrderID OrderStatus  CustomerID      ArrivalDatetime    DepartureDatetime  \\\n",
      "0     1159        paid        1006  2023-03-23 00:13:00  2023-03-23 00:15:00   \n",
      "1     1159        paid        1006  2023-03-23 00:13:00  2023-03-23 00:15:00   \n",
      "2     1160        paid        1001  2023-03-23 00:15:00  2023-03-23 00:17:00   \n",
      "3     1160        paid        1001  2023-03-23 00:15:00  2023-03-23 00:17:00   \n",
      "4     1160        paid        1001  2023-03-23 00:15:00  2023-03-23 00:17:00   \n",
      "\n",
      "   GroupSize       ProductID             ProductName  ProductQuantity  \\\n",
      "0          1  44532400000000  Aquafina- 20 oz bottle                1   \n",
      "1          1  44532400000000         Pepperoni Pizza                1   \n",
      "2          2  44532400000000    Starry- 20 oz bottle                1   \n",
      "3          2  44532400000000          Pink's Hot Dog                2   \n",
      "4          2  44532400000000        Sour Patch Candy                1   \n",
      "\n",
      "   ProductFullPrice PaymentStatus  OrderTotalQuantity EmptyOrder     Category  \\\n",
      "0              7.15       success                   2         No  Non-alcohol   \n",
      "1             18.15       success                   2         No         Food   \n",
      "2              7.15       success                   4         No  Non-alcohol   \n",
      "3             18.70       success                   4         No         Food   \n",
      "4              6.05       success                   4         No         Food   \n",
      "\n",
      "            SubCategory  \n",
      "0                 Water  \n",
      "1              Hot food  \n",
      "2  Non-alcohol Beverage  \n",
      "3              Hot food  \n",
      "4                 Snack  \n",
      "Index(['OrderID', 'OrderStatus', 'CustomerID', 'ArrivalDatetime',\n",
      "       'DepartureDatetime', 'GroupSize', 'ProductID', 'ProductName',\n",
      "       'ProductQuantity', 'ProductFullPrice', 'PaymentStatus',\n",
      "       'OrderTotalQuantity', 'EmptyOrder', 'Category', 'SubCategory'],\n",
      "      dtype='object')\n"
     ]
    }
   ],
   "source": [
    "\n",
    "\n",
    "# Display the first few rows and column names for inspection\n",
    "print(df.head())\n",
    "print(df.columns)\n"
   ]
  },
  {
   "cell_type": "code",
   "execution_count": 6,
   "metadata": {},
   "outputs": [
    {
     "name": "stdout",
     "output_type": "stream",
     "text": [
      "   OrderID OrderStatus  CustomerID      ArrivalDatetime    DepartureDatetime  \\\n",
      "0     1159        paid        1006  2023-03-23 00:13:00  2023-03-23 00:15:00   \n",
      "1     1159        paid        1006  2023-03-23 00:13:00  2023-03-23 00:15:00   \n",
      "2     1160        paid        1001  2023-03-23 00:15:00  2023-03-23 00:17:00   \n",
      "3     1160        paid        1001  2023-03-23 00:15:00  2023-03-23 00:17:00   \n",
      "4     1160        paid        1001  2023-03-23 00:15:00  2023-03-23 00:17:00   \n",
      "\n",
      "   GroupSize       ProductID             ProductName  ProductQuantity  \\\n",
      "0          1  44532400000000  Aquafina- 20 oz bottle                1   \n",
      "1          1  44532400000000         Pepperoni Pizza                1   \n",
      "2          2  44532400000000    Starry- 20 oz bottle                1   \n",
      "3          2  44532400000000          Pink's Hot Dog                2   \n",
      "4          2  44532400000000        Sour Patch Candy                1   \n",
      "\n",
      "   ProductFullPrice PaymentStatus  OrderTotalQuantity EmptyOrder     Category  \\\n",
      "0              7.15       success                   2         No  Non-alcohol   \n",
      "1             18.15       success                   2         No         Food   \n",
      "2              7.15       success                   4         No  Non-alcohol   \n",
      "3             18.70       success                   4         No         Food   \n",
      "4              6.05       success                   4         No         Food   \n",
      "\n",
      "            SubCategory  \n",
      "0                 Water  \n",
      "1              Hot food  \n",
      "2  Non-alcohol Beverage  \n",
      "3              Hot food  \n",
      "4                 Snack  \n",
      "Index(['OrderID', 'OrderStatus', 'CustomerID', 'ArrivalDatetime',\n",
      "       'DepartureDatetime', 'GroupSize', 'ProductID', 'ProductName',\n",
      "       'ProductQuantity', 'ProductFullPrice', 'PaymentStatus',\n",
      "       'OrderTotalQuantity', 'EmptyOrder', 'Category', 'SubCategory'],\n",
      "      dtype='object')\n"
     ]
    }
   ],
   "source": [
    "# Display the first few rows and column names for inspection\n",
    "print(df.head())\n",
    "print(df.columns)\n"
   ]
  },
  {
   "cell_type": "code",
   "execution_count": 10,
   "metadata": {},
   "outputs": [
    {
     "name": "stdout",
     "output_type": "stream",
     "text": [
      "   avg_spending\n",
      "0          32.5\n"
     ]
    }
   ],
   "source": [
    "# Register the DataFrame 'df'\n",
    "sqldf(\"SELECT * FROM df\", globals())\n",
    "\n",
    "# Define the SQL query to calculate the average spending for a group of 2 people\n",
    "query = \"\"\"\n",
    "    SELECT AVG(spending) AS avg_spending\n",
    "    FROM df\n",
    "    WHERE group_size = 2\n",
    "\"\"\"\n",
    "\n",
    "# Use pandasql to execute the query\n",
    "result = sqldf(query, globals())\n",
    "print(result)\n"
   ]
  },
  {
   "cell_type": "code",
   "execution_count": 38,
   "metadata": {},
   "outputs": [
    {
     "name": "stdout",
     "output_type": "stream",
     "text": [
      "Index(['group_size', 'spending'], dtype='object')\n",
      "Index(['group_size', 'spending', 'OrderID', 'OrderStatus', 'CustomerID',\n",
      "       'ArrivalDatetime', 'DepartureDatetime', 'GroupSize', 'ProductID',\n",
      "       'ProductName', 'ProductQuantity', 'ProductFullPrice', 'PaymentStatus',\n",
      "       'OrderTotalQuantity', 'EmptyOrder', 'Category', 'SubCategory'],\n",
      "      dtype='object')\n"
     ]
    }
   ],
   "source": [
    "print(df.columns)\n",
    "\n",
    "new_data = pd.read_csv('LA Clippers Data Challenge F&B Dataset cleaned.csv')\n",
    "\n",
    "# Merge the new DataFrame with your existing DataFrame\n",
    "df = pd.concat([df, new_data], axis=1)\n",
    "\n",
    "# Print the updated DataFrame to inspect the changes\n",
    "print(df.columns)\n"
   ]
  },
  {
   "cell_type": "code",
   "execution_count": 39,
   "metadata": {},
   "outputs": [
    {
     "name": "stdout",
     "output_type": "stream",
     "text": [
      "         Date  MaxFoodPurchase\n",
      "0  2023-05-26            212.5\n"
     ]
    }
   ],
   "source": [
    "# Setup pandasql\n",
    "pysqldf = lambda q: sqldf(q, globals())\n",
    "\n",
    "# Convert ArrivalDatetime to PDT\n",
    "df['ArrivalDatetime'] = pd.to_datetime(df['ArrivalDatetime'])\n",
    "df['ArrivalDatetime'] = df['ArrivalDatetime'].dt.tz_localize('UTC').dt.tz_convert('US/Pacific')\n",
    "\n",
    "# Execute the SQL Query for the highest amount of Food purchased in a day\n",
    "query_b = \"\"\"\n",
    "SELECT DATE(ArrivalDatetime) as Date, MAX(ProductQuantity * ProductFullPrice) as MaxFoodPurchase\n",
    "FROM df\n",
    "WHERE Category = 'Food'\n",
    "GROUP BY Date\n",
    "ORDER BY MaxFoodPurchase DESC\n",
    "LIMIT 1;\n",
    "\"\"\"\n",
    "highest_food_purchase = pysqldf(query_b)\n",
    "print(highest_food_purchase)\n"
   ]
  },
  {
   "cell_type": "code",
   "execution_count": 41,
   "metadata": {},
   "outputs": [
    {
     "name": "stdout",
     "output_type": "stream",
     "text": [
      "   OrderID  NumOfProducts  TotalRevenue  Rank\n",
      "0    15625              7        187.20     1\n",
      "1    16197              6        185.36     2\n",
      "2    18816              9        170.53     3\n",
      "3    11775             12        157.31     4\n",
      "4    16094              6        149.06     5\n"
     ]
    }
   ],
   "source": [
    "# Setup pandasql\n",
    "pysqldf = lambda q: sqldf(q, globals())\n",
    "\n",
    "query_c =\"\"\"\n",
    "SELECT OrderID,\n",
    "       COUNT(*) AS NumOfProducts,\n",
    "       SUM(ProductFullPrice) AS TotalRevenue,\n",
    "       RANK() OVER (ORDER BY SUM(ProductFullPrice) DESC) AS Rank\n",
    "FROM df\n",
    "GROUP BY OrderID\n",
    "ORDER BY TotalRevenue DESC\n",
    "LIMIT 5;\n",
    "\"\"\"\n",
    "\n",
    "result = pysqldf(query_c)\n",
    "print(result)\n",
    "\n"
   ]
  },
  {
   "cell_type": "code",
   "execution_count": null,
   "metadata": {},
   "outputs": [],
   "source": []
  }
 ],
 "metadata": {
  "kernelspec": {
   "display_name": "ml",
   "language": "python",
   "name": "ml"
  },
  "language_info": {
   "codemirror_mode": {
    "name": "ipython",
    "version": 3
   },
   "file_extension": ".py",
   "mimetype": "text/x-python",
   "name": "python",
   "nbconvert_exporter": "python",
   "pygments_lexer": "ipython3",
   "version": "3.10.11"
  }
 },
 "nbformat": 4,
 "nbformat_minor": 2
}
